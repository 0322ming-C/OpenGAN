{
 "cells": [
  {
   "cell_type": "code",
   "execution_count": 1,
   "id": "initial_id",
   "metadata": {
    "ExecuteTime": {
     "end_time": "2025-08-02T02:09:31.169626Z",
     "start_time": "2025-08-02T02:09:15.906502Z"
    },
    "ExecutionIndicator": {
     "show": true
    },
    "execution": {
     "iopub.execute_input": "2025-07-28T21:04:51.460711Z",
     "iopub.status.busy": "2025-07-28T21:04:51.460477Z",
     "iopub.status.idle": "2025-07-28T21:04:54.676508Z",
     "shell.execute_reply": "2025-07-28T21:04:54.676047Z",
     "shell.execute_reply.started": "2025-07-28T21:04:51.460685Z"
    },
    "tags": []
   },
   "outputs": [],
   "source": [
    "from torch.utils.data import DataLoader\n",
    "from utils.dataset_TinyImage import load_data\n",
    "from utils.OpenGAN_arc import Discriminator\n",
    "from utils import train_openganII\n",
    "from utils import visualize_results\n",
    "from utils import evaluate_opengan\n",
    "from utils import TinyImageClassifier\n",
    "from utils.extr_fea import *\n",
    "import warnings\n",
    "\n",
    "warnings.filterwarnings('ignore')"
   ]
  },
  {
   "cell_type": "code",
   "execution_count": 2,
   "id": "37c4af694377a2e9",
   "metadata": {
    "ExecuteTime": {
     "end_time": "2025-08-02T02:09:31.253036Z",
     "start_time": "2025-08-02T02:09:31.170773Z"
    },
    "ExecutionIndicator": {
     "show": true
    },
    "execution": {
     "iopub.execute_input": "2025-07-28T21:04:54.677840Z",
     "iopub.status.busy": "2025-07-28T21:04:54.677464Z",
     "iopub.status.idle": "2025-07-28T21:04:54.808197Z",
     "shell.execute_reply": "2025-07-28T21:04:54.807686Z",
     "shell.execute_reply.started": "2025-07-28T21:04:54.677822Z"
    },
    "tags": []
   },
   "outputs": [],
   "source": [
    "config = {\n",
    "    \"device\": \"cuda\" if torch.cuda.is_available() else \"cpu\",\n",
    "    \"batch_size\": 128,\n",
    "    \"num_closed_classes\": 200,  # TinyImageNet类别数\n",
    "    \"image_size\": 64,  # 统一图像尺寸\n",
    "    \"feature_dim\": 2048,  # ResNet101特征维度\n",
    "\n",
    "    # 分类器训练参数\n",
    "    \"classifier_lr\": 0.001,\n",
    "    \"classifier_epochs\": 50,\n",
    "    \"classifier_weight_decay\": 1e-3,\n",
    "\n",
    "    # OpenGAN参数\n",
    "    \"opengan_lr\": 1e-4,\n",
    "    \"opengan_epochs\": 50,\n",
    "    \"lambda_g\": 0.5,\n",
    "    \"d_train_ratio\": 5,  # 判别器训练次数/生成器训练次数\n",
    "\n",
    "    # 数据集路径\n",
    "    \"tinyimagenet_path\": \"./data/tiny-imagenet-200\",\n",
    "    \"output_dir\": \"./results_setup2\",\n",
    "    \"save_dir\": \"./results_setup2\",\n",
    "\n",
    "    # 开集数据集\n",
    "    \"open_datasets\": [\"CIFAR10\", \"SVHN\", \"MNIST\"],\n",
    "}\n",
    "\n",
    "os.makedirs(config[\"output_dir\"], exist_ok=True)"
   ]
  },
  {
   "cell_type": "code",
   "execution_count": null,
   "id": "9970bc88415d7d13",
   "metadata": {
    "ExecuteTime": {
     "end_time": "2025-08-02T10:19:29.599560Z",
     "start_time": "2025-08-02T02:09:31.886559Z"
    },
    "ExecutionIndicator": {
     "show": true
    },
    "execution": {
     "iopub.execute_input": "2025-07-28T21:04:54.809161Z",
     "iopub.status.busy": "2025-07-28T21:04:54.808852Z"
    },
    "tags": []
   },
   "outputs": [
    {
     "name": "stdout",
     "output_type": "stream",
     "text": [
      "加载TinyImageNet数据集...\n",
      "Files already downloaded and verified\n",
      "Files already downloaded and verified\n",
      "Using downloaded and verified file: ./data\\train_32x32.mat\n",
      "Using downloaded and verified file: ./data\\test_32x32.mat\n",
      "\n",
      "训练闭集分类器...\n"
     ]
    },
    {
     "name": "stderr",
     "output_type": "stream",
     "text": [
      "分类器 Epoch 1/50: 100%|██████████| 625/625 [14:32<00:00,  1.40s/it]\n"
     ]
    },
    {
     "name": "stdout",
     "output_type": "stream",
     "text": [
      "Epoch 1: 训练损失=4.1070, 验证准确率=0.1649\n"
     ]
    },
    {
     "name": "stderr",
     "output_type": "stream",
     "text": [
      "分类器 Epoch 2/50: 100%|██████████| 625/625 [06:45<00:00,  1.54it/s]\n"
     ]
    },
    {
     "name": "stdout",
     "output_type": "stream",
     "text": [
      "Epoch 2: 训练损失=3.4582, 验证准确率=0.2084\n"
     ]
    },
    {
     "name": "stderr",
     "output_type": "stream",
     "text": [
      "分类器 Epoch 3/50: 100%|██████████| 625/625 [05:42<00:00,  1.83it/s]\n"
     ]
    },
    {
     "name": "stdout",
     "output_type": "stream",
     "text": [
      "Epoch 3: 训练损失=3.2508, 验证准确率=0.2253\n"
     ]
    },
    {
     "name": "stderr",
     "output_type": "stream",
     "text": [
      "分类器 Epoch 4/50: 100%|██████████| 625/625 [05:40<00:00,  1.83it/s]\n"
     ]
    },
    {
     "name": "stdout",
     "output_type": "stream",
     "text": [
      "Epoch 4: 训练损失=3.1144, 验证准确率=0.2439\n"
     ]
    },
    {
     "name": "stderr",
     "output_type": "stream",
     "text": [
      "分类器 Epoch 5/50: 100%|██████████| 625/625 [05:38<00:00,  1.85it/s]\n"
     ]
    },
    {
     "name": "stdout",
     "output_type": "stream",
     "text": [
      "Epoch 5: 训练损失=3.0147, 验证准确率=0.2615\n"
     ]
    },
    {
     "name": "stderr",
     "output_type": "stream",
     "text": [
      "分类器 Epoch 6/50: 100%|██████████| 625/625 [11:24<00:00,  1.10s/it]\n"
     ]
    },
    {
     "name": "stdout",
     "output_type": "stream",
     "text": [
      "Epoch 6: 训练损失=2.9367, 验证准确率=0.2846\n"
     ]
    },
    {
     "name": "stderr",
     "output_type": "stream",
     "text": [
      "分类器 Epoch 7/50: 100%|██████████| 625/625 [07:03<00:00,  1.48it/s]\n"
     ]
    },
    {
     "name": "stdout",
     "output_type": "stream",
     "text": [
      "Epoch 7: 训练损失=2.8726, 验证准确率=0.3017\n"
     ]
    },
    {
     "name": "stderr",
     "output_type": "stream",
     "text": [
      "分类器 Epoch 8/50: 100%|██████████| 625/625 [05:38<00:00,  1.85it/s]\n"
     ]
    },
    {
     "name": "stdout",
     "output_type": "stream",
     "text": [
      "Epoch 8: 训练损失=2.8184, 验证准确率=0.3210\n"
     ]
    },
    {
     "name": "stderr",
     "output_type": "stream",
     "text": [
      "分类器 Epoch 9/50: 100%|██████████| 625/625 [05:37<00:00,  1.85it/s]\n"
     ]
    },
    {
     "name": "stdout",
     "output_type": "stream",
     "text": [
      "Epoch 9: 训练损失=2.7833, 验证准确率=0.3125\n"
     ]
    },
    {
     "name": "stderr",
     "output_type": "stream",
     "text": [
      "分类器 Epoch 10/50: 100%|██████████| 625/625 [05:37<00:00,  1.85it/s]\n"
     ]
    },
    {
     "name": "stdout",
     "output_type": "stream",
     "text": [
      "Epoch 10: 训练损失=2.7338, 验证准确率=0.3000\n"
     ]
    },
    {
     "name": "stderr",
     "output_type": "stream",
     "text": [
      "分类器 Epoch 11/50: 100%|██████████| 625/625 [05:35<00:00,  1.86it/s]\n"
     ]
    },
    {
     "name": "stdout",
     "output_type": "stream",
     "text": [
      "Epoch 11: 训练损失=2.7006, 验证准确率=0.3016\n"
     ]
    },
    {
     "name": "stderr",
     "output_type": "stream",
     "text": [
      "分类器 Epoch 12/50: 100%|██████████| 625/625 [05:36<00:00,  1.86it/s]\n"
     ]
    },
    {
     "name": "stdout",
     "output_type": "stream",
     "text": [
      "Epoch 12: 训练损失=2.6695, 验证准确率=0.3285\n"
     ]
    },
    {
     "name": "stderr",
     "output_type": "stream",
     "text": [
      "分类器 Epoch 13/50: 100%|██████████| 625/625 [05:34<00:00,  1.87it/s]\n"
     ]
    },
    {
     "name": "stdout",
     "output_type": "stream",
     "text": [
      "Epoch 13: 训练损失=2.6465, 验证准确率=0.3212\n"
     ]
    },
    {
     "name": "stderr",
     "output_type": "stream",
     "text": [
      "分类器 Epoch 14/50: 100%|██████████| 625/625 [05:35<00:00,  1.86it/s]\n"
     ]
    },
    {
     "name": "stdout",
     "output_type": "stream",
     "text": [
      "Epoch 14: 训练损失=2.6150, 验证准确率=0.3374\n"
     ]
    },
    {
     "name": "stderr",
     "output_type": "stream",
     "text": [
      "分类器 Epoch 15/50: 100%|██████████| 625/625 [05:36<00:00,  1.86it/s]\n"
     ]
    },
    {
     "name": "stdout",
     "output_type": "stream",
     "text": [
      "Epoch 15: 训练损失=2.5894, 验证准确率=0.3336\n"
     ]
    },
    {
     "name": "stderr",
     "output_type": "stream",
     "text": [
      "分类器 Epoch 16/50: 100%|██████████| 625/625 [05:35<00:00,  1.86it/s]\n"
     ]
    },
    {
     "name": "stdout",
     "output_type": "stream",
     "text": [
      "Epoch 16: 训练损失=2.5752, 验证准确率=0.3307\n"
     ]
    },
    {
     "name": "stderr",
     "output_type": "stream",
     "text": [
      "分类器 Epoch 17/50: 100%|██████████| 625/625 [05:37<00:00,  1.85it/s]\n"
     ]
    },
    {
     "name": "stdout",
     "output_type": "stream",
     "text": [
      "Epoch 17: 训练损失=2.5571, 验证准确率=0.3448\n"
     ]
    },
    {
     "name": "stderr",
     "output_type": "stream",
     "text": [
      "分类器 Epoch 18/50: 100%|██████████| 625/625 [05:35<00:00,  1.86it/s]\n"
     ]
    },
    {
     "name": "stdout",
     "output_type": "stream",
     "text": [
      "Epoch 18: 训练损失=2.5407, 验证准确率=0.3306\n"
     ]
    },
    {
     "name": "stderr",
     "output_type": "stream",
     "text": [
      "分类器 Epoch 19/50: 100%|██████████| 625/625 [05:37<00:00,  1.85it/s]\n"
     ]
    },
    {
     "name": "stdout",
     "output_type": "stream",
     "text": [
      "Epoch 19: 训练损失=2.5247, 验证准确率=0.3435\n"
     ]
    },
    {
     "name": "stderr",
     "output_type": "stream",
     "text": [
      "分类器 Epoch 20/50: 100%|██████████| 625/625 [05:34<00:00,  1.87it/s]\n"
     ]
    },
    {
     "name": "stdout",
     "output_type": "stream",
     "text": [
      "Epoch 20: 训练损失=2.5175, 验证准确率=0.3412\n"
     ]
    },
    {
     "name": "stderr",
     "output_type": "stream",
     "text": [
      "分类器 Epoch 21/50: 100%|██████████| 625/625 [05:36<00:00,  1.86it/s]\n"
     ]
    },
    {
     "name": "stdout",
     "output_type": "stream",
     "text": [
      "Epoch 21: 训练损失=2.1756, 验证准确率=0.4272\n"
     ]
    },
    {
     "name": "stderr",
     "output_type": "stream",
     "text": [
      "分类器 Epoch 22/50: 100%|██████████| 625/625 [05:34<00:00,  1.87it/s]\n"
     ]
    },
    {
     "name": "stdout",
     "output_type": "stream",
     "text": [
      "Epoch 22: 训练损失=2.0585, 验证准确率=0.4375\n"
     ]
    },
    {
     "name": "stderr",
     "output_type": "stream",
     "text": [
      "分类器 Epoch 23/50: 100%|██████████| 625/625 [05:35<00:00,  1.86it/s]\n"
     ]
    },
    {
     "name": "stdout",
     "output_type": "stream",
     "text": [
      "Epoch 23: 训练损失=2.0029, 验证准确率=0.4399\n"
     ]
    },
    {
     "name": "stderr",
     "output_type": "stream",
     "text": [
      "分类器 Epoch 24/50: 100%|██████████| 625/625 [05:34<00:00,  1.87it/s]\n"
     ]
    },
    {
     "name": "stdout",
     "output_type": "stream",
     "text": [
      "Epoch 24: 训练损失=1.9618, 验证准确率=0.4464\n"
     ]
    },
    {
     "name": "stderr",
     "output_type": "stream",
     "text": [
      "分类器 Epoch 25/50: 100%|██████████| 625/625 [05:33<00:00,  1.87it/s]\n"
     ]
    },
    {
     "name": "stdout",
     "output_type": "stream",
     "text": [
      "Epoch 25: 训练损失=1.9268, 验证准确率=0.4496\n"
     ]
    },
    {
     "name": "stderr",
     "output_type": "stream",
     "text": [
      "分类器 Epoch 26/50: 100%|██████████| 625/625 [05:35<00:00,  1.86it/s]\n"
     ]
    },
    {
     "name": "stdout",
     "output_type": "stream",
     "text": [
      "Epoch 26: 训练损失=1.8894, 验证准确率=0.4497\n"
     ]
    },
    {
     "name": "stderr",
     "output_type": "stream",
     "text": [
      "分类器 Epoch 27/50: 100%|██████████| 625/625 [05:34<00:00,  1.87it/s]\n"
     ]
    },
    {
     "name": "stdout",
     "output_type": "stream",
     "text": [
      "Epoch 27: 训练损失=1.8642, 验证准确率=0.4527\n"
     ]
    },
    {
     "name": "stderr",
     "output_type": "stream",
     "text": [
      "分类器 Epoch 28/50: 100%|██████████| 625/625 [05:37<00:00,  1.85it/s]\n"
     ]
    },
    {
     "name": "stdout",
     "output_type": "stream",
     "text": [
      "Epoch 28: 训练损失=1.8322, 验证准确率=0.4512\n"
     ]
    },
    {
     "name": "stderr",
     "output_type": "stream",
     "text": [
      "分类器 Epoch 29/50: 100%|██████████| 625/625 [05:36<00:00,  1.86it/s]\n"
     ]
    },
    {
     "name": "stdout",
     "output_type": "stream",
     "text": [
      "Epoch 29: 训练损失=1.8069, 验证准确率=0.4556\n"
     ]
    },
    {
     "name": "stderr",
     "output_type": "stream",
     "text": [
      "分类器 Epoch 30/50: 100%|██████████| 625/625 [05:36<00:00,  1.86it/s]\n"
     ]
    },
    {
     "name": "stdout",
     "output_type": "stream",
     "text": [
      "Epoch 30: 训练损失=1.7863, 验证准确率=0.4595\n"
     ]
    },
    {
     "name": "stderr",
     "output_type": "stream",
     "text": [
      "分类器 Epoch 31/50: 100%|██████████| 625/625 [05:36<00:00,  1.86it/s]\n"
     ]
    },
    {
     "name": "stdout",
     "output_type": "stream",
     "text": [
      "Epoch 31: 训练损失=1.7634, 验证准确率=0.4555\n"
     ]
    },
    {
     "name": "stderr",
     "output_type": "stream",
     "text": [
      "分类器 Epoch 32/50: 100%|██████████| 625/625 [05:34<00:00,  1.87it/s]\n"
     ]
    },
    {
     "name": "stdout",
     "output_type": "stream",
     "text": [
      "Epoch 32: 训练损失=1.7430, 验证准确率=0.4545\n"
     ]
    },
    {
     "name": "stderr",
     "output_type": "stream",
     "text": [
      "分类器 Epoch 33/50: 100%|██████████| 625/625 [05:32<00:00,  1.88it/s]\n"
     ]
    },
    {
     "name": "stdout",
     "output_type": "stream",
     "text": [
      "Epoch 33: 训练损失=1.7203, 验证准确率=0.4552\n"
     ]
    },
    {
     "name": "stderr",
     "output_type": "stream",
     "text": [
      "分类器 Epoch 34/50: 100%|██████████| 625/625 [05:33<00:00,  1.88it/s]\n"
     ]
    },
    {
     "name": "stdout",
     "output_type": "stream",
     "text": [
      "Epoch 34: 训练损失=1.6995, 验证准确率=0.4528\n"
     ]
    },
    {
     "name": "stderr",
     "output_type": "stream",
     "text": [
      "分类器 Epoch 35/50: 100%|██████████| 625/625 [05:33<00:00,  1.87it/s]\n"
     ]
    },
    {
     "name": "stdout",
     "output_type": "stream",
     "text": [
      "Epoch 35: 训练损失=1.6838, 验证准确率=0.4578\n"
     ]
    },
    {
     "name": "stderr",
     "output_type": "stream",
     "text": [
      "分类器 Epoch 36/50: 100%|██████████| 625/625 [05:33<00:00,  1.88it/s]\n"
     ]
    },
    {
     "name": "stdout",
     "output_type": "stream",
     "text": [
      "Epoch 36: 训练损失=1.6629, 验证准确率=0.4588\n"
     ]
    },
    {
     "name": "stderr",
     "output_type": "stream",
     "text": [
      "分类器 Epoch 37/50: 100%|██████████| 625/625 [05:34<00:00,  1.87it/s]\n"
     ]
    },
    {
     "name": "stdout",
     "output_type": "stream",
     "text": [
      "Epoch 37: 训练损失=1.6429, 验证准确率=0.4512\n"
     ]
    },
    {
     "name": "stderr",
     "output_type": "stream",
     "text": [
      "分类器 Epoch 38/50: 100%|██████████| 625/625 [05:38<00:00,  1.84it/s]\n"
     ]
    },
    {
     "name": "stdout",
     "output_type": "stream",
     "text": [
      "Epoch 38: 训练损失=1.6265, 验证准确率=0.4567\n"
     ]
    },
    {
     "name": "stderr",
     "output_type": "stream",
     "text": [
      "分类器 Epoch 39/50: 100%|██████████| 625/625 [06:32<00:00,  1.59it/s]\n"
     ]
    },
    {
     "name": "stdout",
     "output_type": "stream",
     "text": [
      "Epoch 39: 训练损失=1.6030, 验证准确率=0.4595\n"
     ]
    },
    {
     "name": "stderr",
     "output_type": "stream",
     "text": [
      "分类器 Epoch 40/50: 100%|██████████| 625/625 [05:54<00:00,  1.76it/s]\n"
     ]
    },
    {
     "name": "stdout",
     "output_type": "stream",
     "text": [
      "Epoch 40: 训练损失=1.5921, 验证准确率=0.4567\n"
     ]
    },
    {
     "name": "stderr",
     "output_type": "stream",
     "text": [
      "分类器 Epoch 41/50: 100%|██████████| 625/625 [05:51<00:00,  1.78it/s]\n"
     ]
    },
    {
     "name": "stdout",
     "output_type": "stream",
     "text": [
      "Epoch 41: 训练损失=1.5160, 验证准确率=0.4638\n"
     ]
    },
    {
     "name": "stderr",
     "output_type": "stream",
     "text": [
      "分类器 Epoch 42/50: 100%|██████████| 625/625 [05:54<00:00,  1.76it/s]\n"
     ]
    },
    {
     "name": "stdout",
     "output_type": "stream",
     "text": [
      "Epoch 42: 训练损失=1.4919, 验证准确率=0.4648\n"
     ]
    },
    {
     "name": "stderr",
     "output_type": "stream",
     "text": [
      "分类器 Epoch 43/50: 100%|██████████| 625/625 [05:58<00:00,  1.74it/s]\n"
     ]
    },
    {
     "name": "stdout",
     "output_type": "stream",
     "text": [
      "Epoch 43: 训练损失=1.4890, 验证准确率=0.4667\n"
     ]
    },
    {
     "name": "stderr",
     "output_type": "stream",
     "text": [
      "分类器 Epoch 44/50: 100%|██████████| 625/625 [05:54<00:00,  1.77it/s]\n"
     ]
    },
    {
     "name": "stdout",
     "output_type": "stream",
     "text": [
      "Epoch 44: 训练损失=1.4811, 验证准确率=0.4648\n"
     ]
    },
    {
     "name": "stderr",
     "output_type": "stream",
     "text": [
      "分类器 Epoch 45/50: 100%|██████████| 625/625 [06:21<00:00,  1.64it/s]\n"
     ]
    },
    {
     "name": "stdout",
     "output_type": "stream",
     "text": [
      "Epoch 45: 训练损失=1.4752, 验证准确率=0.4679\n"
     ]
    },
    {
     "name": "stderr",
     "output_type": "stream",
     "text": [
      "分类器 Epoch 46/50: 100%|██████████| 625/625 [14:10<00:00,  1.36s/it]\n"
     ]
    },
    {
     "name": "stdout",
     "output_type": "stream",
     "text": [
      "Epoch 46: 训练损失=1.4621, 验证准确率=0.4674\n"
     ]
    },
    {
     "name": "stderr",
     "output_type": "stream",
     "text": [
      "分类器 Epoch 47/50: 100%|██████████| 625/625 [05:57<00:00,  1.75it/s]\n"
     ]
    },
    {
     "name": "stdout",
     "output_type": "stream",
     "text": [
      "Epoch 47: 训练损失=1.4666, 验证准确率=0.4663\n"
     ]
    },
    {
     "name": "stderr",
     "output_type": "stream",
     "text": [
      "分类器 Epoch 48/50: 100%|██████████| 625/625 [05:58<00:00,  1.74it/s]\n"
     ]
    },
    {
     "name": "stdout",
     "output_type": "stream",
     "text": [
      "Epoch 48: 训练损失=1.4571, 验证准确率=0.4657\n"
     ]
    },
    {
     "name": "stderr",
     "output_type": "stream",
     "text": [
      "分类器 Epoch 49/50: 100%|██████████| 625/625 [08:24<00:00,  1.24it/s]\n"
     ]
    },
    {
     "name": "stdout",
     "output_type": "stream",
     "text": [
      "Epoch 49: 训练损失=1.4551, 验证准确率=0.4657\n"
     ]
    },
    {
     "name": "stderr",
     "output_type": "stream",
     "text": [
      "分类器 Epoch 50/50: 100%|██████████| 625/625 [10:46<00:00,  1.03s/it]\n"
     ]
    },
    {
     "name": "stdout",
     "output_type": "stream",
     "text": [
      "Epoch 50: 训练损失=1.4495, 验证准确率=0.4628\n",
      "训练OpenGAN...\n"
     ]
    },
    {
     "name": "stderr",
     "output_type": "stream",
     "text": [
      "OpenGAN Epoch 1: 100%|██████████| 391/391 [01:00<00:00,  6.45it/s]\n"
     ]
    },
    {
     "name": "stdout",
     "output_type": "stream",
     "text": [
      "Epoch 1: D_loss=-0.2939, G_loss=1.4626, Val AUROC=0.4727\n"
     ]
    },
    {
     "name": "stderr",
     "output_type": "stream",
     "text": [
      "OpenGAN Epoch 2: 100%|██████████| 391/391 [00:58<00:00,  6.73it/s]\n"
     ]
    },
    {
     "name": "stdout",
     "output_type": "stream",
     "text": [
      "Epoch 2: D_loss=-1.1179, G_loss=2.5828, Val AUROC=0.4443\n"
     ]
    },
    {
     "name": "stderr",
     "output_type": "stream",
     "text": [
      "OpenGAN Epoch 3: 100%|██████████| 391/391 [00:57<00:00,  6.79it/s]\n"
     ]
    },
    {
     "name": "stdout",
     "output_type": "stream",
     "text": [
      "Epoch 3: D_loss=-1.8439, G_loss=3.8320, Val AUROC=0.0900\n"
     ]
    },
    {
     "name": "stderr",
     "output_type": "stream",
     "text": [
      "OpenGAN Epoch 4: 100%|██████████| 391/391 [00:57<00:00,  6.77it/s]\n"
     ]
    },
    {
     "name": "stdout",
     "output_type": "stream",
     "text": [
      "Epoch 4: D_loss=-2.6463, G_loss=5.3562, Val AUROC=0.1019\n"
     ]
    },
    {
     "name": "stderr",
     "output_type": "stream",
     "text": [
      "OpenGAN Epoch 5: 100%|██████████| 391/391 [00:57<00:00,  6.76it/s]\n"
     ]
    },
    {
     "name": "stdout",
     "output_type": "stream",
     "text": [
      "Epoch 5: D_loss=-3.5744, G_loss=7.1857, Val AUROC=0.1767\n"
     ]
    },
    {
     "name": "stderr",
     "output_type": "stream",
     "text": [
      "OpenGAN Epoch 6: 100%|██████████| 391/391 [00:57<00:00,  6.76it/s]\n"
     ]
    },
    {
     "name": "stdout",
     "output_type": "stream",
     "text": [
      "Epoch 6: D_loss=-4.5940, G_loss=9.2243, Val AUROC=0.5876\n"
     ]
    },
    {
     "name": "stderr",
     "output_type": "stream",
     "text": [
      "OpenGAN Epoch 7: 100%|██████████| 391/391 [00:58<00:00,  6.74it/s]\n"
     ]
    },
    {
     "name": "stdout",
     "output_type": "stream",
     "text": [
      "Epoch 7: D_loss=-5.3673, G_loss=10.8064, Val AUROC=0.6996\n"
     ]
    },
    {
     "name": "stderr",
     "output_type": "stream",
     "text": [
      "OpenGAN Epoch 8: 100%|██████████| 391/391 [00:58<00:00,  6.70it/s]\n"
     ]
    },
    {
     "name": "stdout",
     "output_type": "stream",
     "text": [
      "Epoch 8: D_loss=-5.7962, G_loss=11.7176, Val AUROC=0.4515\n"
     ]
    },
    {
     "name": "stderr",
     "output_type": "stream",
     "text": [
      "OpenGAN Epoch 9: 100%|██████████| 391/391 [00:57<00:00,  6.77it/s]\n"
     ]
    },
    {
     "name": "stdout",
     "output_type": "stream",
     "text": [
      "Epoch 9: D_loss=-6.2261, G_loss=12.5809, Val AUROC=0.5148\n"
     ]
    },
    {
     "name": "stderr",
     "output_type": "stream",
     "text": [
      "OpenGAN Epoch 10: 100%|██████████| 391/391 [00:57<00:00,  6.75it/s]\n"
     ]
    },
    {
     "name": "stdout",
     "output_type": "stream",
     "text": [
      "Epoch 10: D_loss=-6.5364, G_loss=13.1952, Val AUROC=0.3886\n"
     ]
    },
    {
     "name": "stderr",
     "output_type": "stream",
     "text": [
      "OpenGAN Epoch 11: 100%|██████████| 391/391 [00:57<00:00,  6.78it/s]\n"
     ]
    },
    {
     "name": "stdout",
     "output_type": "stream",
     "text": [
      "Epoch 11: D_loss=-7.1389, G_loss=14.3803, Val AUROC=0.5070\n"
     ]
    },
    {
     "name": "stderr",
     "output_type": "stream",
     "text": [
      "OpenGAN Epoch 12: 100%|██████████| 391/391 [00:57<00:00,  6.76it/s]\n"
     ]
    },
    {
     "name": "stdout",
     "output_type": "stream",
     "text": [
      "Epoch 12: D_loss=-7.6336, G_loss=15.3493, Val AUROC=0.5008\n"
     ]
    },
    {
     "name": "stderr",
     "output_type": "stream",
     "text": [
      "OpenGAN Epoch 13: 100%|██████████| 391/391 [00:57<00:00,  6.76it/s]\n"
     ]
    },
    {
     "name": "stdout",
     "output_type": "stream",
     "text": [
      "Epoch 13: D_loss=-7.9532, G_loss=15.9366, Val AUROC=0.5117\n"
     ]
    },
    {
     "name": "stderr",
     "output_type": "stream",
     "text": [
      "OpenGAN Epoch 14: 100%|██████████| 391/391 [00:57<00:00,  6.76it/s]\n"
     ]
    },
    {
     "name": "stdout",
     "output_type": "stream",
     "text": [
      "Epoch 14: D_loss=-8.0582, G_loss=16.1175, Val AUROC=0.5068\n"
     ]
    },
    {
     "name": "stderr",
     "output_type": "stream",
     "text": [
      "OpenGAN Epoch 15: 100%|██████████| 391/391 [00:57<00:00,  6.76it/s]\n"
     ]
    },
    {
     "name": "stdout",
     "output_type": "stream",
     "text": [
      "Epoch 15: D_loss=-8.0590, G_loss=16.1181, Val AUROC=0.5017\n"
     ]
    },
    {
     "name": "stderr",
     "output_type": "stream",
     "text": [
      "OpenGAN Epoch 16: 100%|██████████| 391/391 [00:57<00:00,  6.78it/s]\n"
     ]
    },
    {
     "name": "stdout",
     "output_type": "stream",
     "text": [
      "Epoch 16: D_loss=-8.0585, G_loss=16.1176, Val AUROC=0.5014\n"
     ]
    },
    {
     "name": "stderr",
     "output_type": "stream",
     "text": [
      "OpenGAN Epoch 17: 100%|██████████| 391/391 [00:57<00:00,  6.81it/s]\n"
     ]
    },
    {
     "name": "stdout",
     "output_type": "stream",
     "text": [
      "Epoch 17: D_loss=-8.0588, G_loss=16.1178, Val AUROC=0.5034\n"
     ]
    },
    {
     "name": "stderr",
     "output_type": "stream",
     "text": [
      "OpenGAN Epoch 18: 100%|██████████| 391/391 [00:57<00:00,  6.76it/s]\n"
     ]
    },
    {
     "name": "stdout",
     "output_type": "stream",
     "text": [
      "Epoch 18: D_loss=-8.0590, G_loss=16.1181, Val AUROC=0.5003\n"
     ]
    },
    {
     "name": "stderr",
     "output_type": "stream",
     "text": [
      "OpenGAN Epoch 19: 100%|██████████| 391/391 [00:57<00:00,  6.80it/s]\n"
     ]
    },
    {
     "name": "stdout",
     "output_type": "stream",
     "text": [
      "Epoch 19: D_loss=-8.0586, G_loss=16.1176, Val AUROC=0.5009\n"
     ]
    },
    {
     "name": "stderr",
     "output_type": "stream",
     "text": [
      "OpenGAN Epoch 20: 100%|██████████| 391/391 [00:57<00:00,  6.77it/s]\n"
     ]
    },
    {
     "name": "stdout",
     "output_type": "stream",
     "text": [
      "Epoch 20: D_loss=-8.0589, G_loss=16.1180, Val AUROC=0.5007\n"
     ]
    },
    {
     "name": "stderr",
     "output_type": "stream",
     "text": [
      "OpenGAN Epoch 21: 100%|██████████| 391/391 [00:57<00:00,  6.78it/s]\n"
     ]
    },
    {
     "name": "stdout",
     "output_type": "stream",
     "text": [
      "Epoch 21: D_loss=-8.0590, G_loss=16.1181, Val AUROC=0.5010\n"
     ]
    },
    {
     "name": "stderr",
     "output_type": "stream",
     "text": [
      "OpenGAN Epoch 22: 100%|██████████| 391/391 [00:57<00:00,  6.77it/s]\n"
     ]
    },
    {
     "name": "stdout",
     "output_type": "stream",
     "text": [
      "Epoch 22: D_loss=-8.0579, G_loss=16.1165, Val AUROC=0.5005\n"
     ]
    },
    {
     "name": "stderr",
     "output_type": "stream",
     "text": [
      "OpenGAN Epoch 23: 100%|██████████| 391/391 [00:58<00:00,  6.73it/s]\n"
     ]
    },
    {
     "name": "stdout",
     "output_type": "stream",
     "text": [
      "Epoch 23: D_loss=-8.0584, G_loss=16.1171, Val AUROC=0.5000\n"
     ]
    },
    {
     "name": "stderr",
     "output_type": "stream",
     "text": [
      "OpenGAN Epoch 24: 100%|██████████| 391/391 [00:58<00:00,  6.70it/s]\n"
     ]
    },
    {
     "name": "stdout",
     "output_type": "stream",
     "text": [
      "Epoch 24: D_loss=-8.0590, G_loss=16.1181, Val AUROC=0.5000\n"
     ]
    },
    {
     "name": "stderr",
     "output_type": "stream",
     "text": [
      "OpenGAN Epoch 25: 100%|██████████| 391/391 [00:58<00:00,  6.70it/s]\n"
     ]
    },
    {
     "name": "stdout",
     "output_type": "stream",
     "text": [
      "Epoch 25: D_loss=-8.0590, G_loss=16.1181, Val AUROC=0.5000\n"
     ]
    },
    {
     "name": "stderr",
     "output_type": "stream",
     "text": [
      "OpenGAN Epoch 26: 100%|██████████| 391/391 [00:58<00:00,  6.67it/s]\n"
     ]
    },
    {
     "name": "stdout",
     "output_type": "stream",
     "text": [
      "Epoch 26: D_loss=-8.0590, G_loss=16.1181, Val AUROC=0.5000\n"
     ]
    },
    {
     "name": "stderr",
     "output_type": "stream",
     "text": [
      "OpenGAN Epoch 27: 100%|██████████| 391/391 [00:58<00:00,  6.71it/s]\n"
     ]
    },
    {
     "name": "stdout",
     "output_type": "stream",
     "text": [
      "Epoch 27: D_loss=-8.0590, G_loss=16.1181, Val AUROC=0.5000\n"
     ]
    },
    {
     "name": "stderr",
     "output_type": "stream",
     "text": [
      "OpenGAN Epoch 28: 100%|██████████| 391/391 [00:58<00:00,  6.66it/s]\n"
     ]
    },
    {
     "name": "stdout",
     "output_type": "stream",
     "text": [
      "Epoch 28: D_loss=-8.0590, G_loss=16.1181, Val AUROC=0.5000\n"
     ]
    },
    {
     "name": "stderr",
     "output_type": "stream",
     "text": [
      "OpenGAN Epoch 29: 100%|██████████| 391/391 [00:58<00:00,  6.71it/s]\n"
     ]
    },
    {
     "name": "stdout",
     "output_type": "stream",
     "text": [
      "Epoch 29: D_loss=-8.0590, G_loss=16.1181, Val AUROC=0.5000\n"
     ]
    },
    {
     "name": "stderr",
     "output_type": "stream",
     "text": [
      "OpenGAN Epoch 30: 100%|██████████| 391/391 [00:58<00:00,  6.70it/s]\n"
     ]
    },
    {
     "name": "stdout",
     "output_type": "stream",
     "text": [
      "Epoch 30: D_loss=-8.0590, G_loss=16.1181, Val AUROC=0.5000\n"
     ]
    },
    {
     "name": "stderr",
     "output_type": "stream",
     "text": [
      "OpenGAN Epoch 31: 100%|██████████| 391/391 [00:58<00:00,  6.73it/s]\n"
     ]
    },
    {
     "name": "stdout",
     "output_type": "stream",
     "text": [
      "Epoch 31: D_loss=-8.0590, G_loss=16.1181, Val AUROC=0.5000\n"
     ]
    },
    {
     "name": "stderr",
     "output_type": "stream",
     "text": [
      "OpenGAN Epoch 32: 100%|██████████| 391/391 [00:58<00:00,  6.73it/s]\n"
     ]
    },
    {
     "name": "stdout",
     "output_type": "stream",
     "text": [
      "Epoch 32: D_loss=-8.0590, G_loss=16.1181, Val AUROC=0.5000\n"
     ]
    },
    {
     "name": "stderr",
     "output_type": "stream",
     "text": [
      "OpenGAN Epoch 33: 100%|██████████| 391/391 [00:58<00:00,  6.73it/s]\n"
     ]
    },
    {
     "name": "stdout",
     "output_type": "stream",
     "text": [
      "Epoch 33: D_loss=-8.0590, G_loss=16.1181, Val AUROC=0.5000\n"
     ]
    },
    {
     "name": "stderr",
     "output_type": "stream",
     "text": [
      "OpenGAN Epoch 34: 100%|██████████| 391/391 [00:57<00:00,  6.77it/s]\n"
     ]
    },
    {
     "name": "stdout",
     "output_type": "stream",
     "text": [
      "Epoch 34: D_loss=-8.0508, G_loss=16.1067, Val AUROC=0.5000\n"
     ]
    },
    {
     "name": "stderr",
     "output_type": "stream",
     "text": [
      "OpenGAN Epoch 35: 100%|██████████| 391/391 [00:57<00:00,  6.82it/s]\n"
     ]
    },
    {
     "name": "stdout",
     "output_type": "stream",
     "text": [
      "Epoch 35: D_loss=-8.0590, G_loss=16.1181, Val AUROC=0.5000\n"
     ]
    },
    {
     "name": "stderr",
     "output_type": "stream",
     "text": [
      "OpenGAN Epoch 36: 100%|██████████| 391/391 [00:58<00:00,  6.69it/s]\n"
     ]
    },
    {
     "name": "stdout",
     "output_type": "stream",
     "text": [
      "Epoch 36: D_loss=-8.0590, G_loss=16.1181, Val AUROC=0.5000\n"
     ]
    },
    {
     "name": "stderr",
     "output_type": "stream",
     "text": [
      "OpenGAN Epoch 37: 100%|██████████| 391/391 [00:58<00:00,  6.71it/s]\n"
     ]
    },
    {
     "name": "stdout",
     "output_type": "stream",
     "text": [
      "Epoch 37: D_loss=-8.0590, G_loss=16.1181, Val AUROC=0.5000\n"
     ]
    },
    {
     "name": "stderr",
     "output_type": "stream",
     "text": [
      "OpenGAN Epoch 38: 100%|██████████| 391/391 [00:58<00:00,  6.71it/s]\n"
     ]
    },
    {
     "name": "stdout",
     "output_type": "stream",
     "text": [
      "Epoch 38: D_loss=-8.0590, G_loss=16.1181, Val AUROC=0.5000\n"
     ]
    },
    {
     "name": "stderr",
     "output_type": "stream",
     "text": [
      "OpenGAN Epoch 39: 100%|██████████| 391/391 [00:58<00:00,  6.71it/s]\n"
     ]
    },
    {
     "name": "stdout",
     "output_type": "stream",
     "text": [
      "Epoch 39: D_loss=-8.0590, G_loss=16.1181, Val AUROC=0.5000\n"
     ]
    },
    {
     "name": "stderr",
     "output_type": "stream",
     "text": [
      "OpenGAN Epoch 40: 100%|██████████| 391/391 [01:00<00:00,  6.44it/s]\n"
     ]
    },
    {
     "name": "stdout",
     "output_type": "stream",
     "text": [
      "Epoch 40: D_loss=-8.0581, G_loss=16.1169, Val AUROC=0.5000\n"
     ]
    },
    {
     "name": "stderr",
     "output_type": "stream",
     "text": [
      "OpenGAN Epoch 41: 100%|██████████| 391/391 [01:00<00:00,  6.43it/s]\n"
     ]
    },
    {
     "name": "stdout",
     "output_type": "stream",
     "text": [
      "Epoch 41: D_loss=-8.0590, G_loss=16.1181, Val AUROC=0.5000\n"
     ]
    },
    {
     "name": "stderr",
     "output_type": "stream",
     "text": [
      "OpenGAN Epoch 42: 100%|██████████| 391/391 [00:58<00:00,  6.68it/s]\n"
     ]
    },
    {
     "name": "stdout",
     "output_type": "stream",
     "text": [
      "Epoch 42: D_loss=-8.0590, G_loss=16.1181, Val AUROC=0.5000\n"
     ]
    },
    {
     "name": "stderr",
     "output_type": "stream",
     "text": [
      "OpenGAN Epoch 43: 100%|██████████| 391/391 [01:03<00:00,  6.16it/s]\n"
     ]
    },
    {
     "name": "stdout",
     "output_type": "stream",
     "text": [
      "Epoch 43: D_loss=-8.0590, G_loss=16.1181, Val AUROC=0.5000\n"
     ]
    },
    {
     "name": "stderr",
     "output_type": "stream",
     "text": [
      "OpenGAN Epoch 44: 100%|██████████| 391/391 [00:55<00:00,  7.03it/s]\n"
     ]
    },
    {
     "name": "stdout",
     "output_type": "stream",
     "text": [
      "Epoch 44: D_loss=-8.0590, G_loss=16.1181, Val AUROC=0.5000\n"
     ]
    },
    {
     "name": "stderr",
     "output_type": "stream",
     "text": [
      "OpenGAN Epoch 45: 100%|██████████| 391/391 [00:55<00:00,  7.02it/s]\n"
     ]
    },
    {
     "name": "stdout",
     "output_type": "stream",
     "text": [
      "Epoch 45: D_loss=-8.0590, G_loss=16.1181, Val AUROC=0.5000\n"
     ]
    },
    {
     "name": "stderr",
     "output_type": "stream",
     "text": [
      "OpenGAN Epoch 46: 100%|██████████| 391/391 [00:59<00:00,  6.52it/s]\n"
     ]
    },
    {
     "name": "stdout",
     "output_type": "stream",
     "text": [
      "Epoch 46: D_loss=-8.0590, G_loss=16.1181, Val AUROC=0.5000\n"
     ]
    },
    {
     "name": "stderr",
     "output_type": "stream",
     "text": [
      "OpenGAN Epoch 47: 100%|██████████| 391/391 [00:56<00:00,  6.88it/s]\n"
     ]
    },
    {
     "name": "stdout",
     "output_type": "stream",
     "text": [
      "Epoch 47: D_loss=-8.0590, G_loss=16.1181, Val AUROC=0.5000\n"
     ]
    },
    {
     "name": "stderr",
     "output_type": "stream",
     "text": [
      "OpenGAN Epoch 48: 100%|██████████| 391/391 [00:55<00:00,  7.01it/s]\n"
     ]
    },
    {
     "name": "stdout",
     "output_type": "stream",
     "text": [
      "Epoch 48: D_loss=-8.0590, G_loss=16.1181, Val AUROC=0.5000\n"
     ]
    },
    {
     "name": "stderr",
     "output_type": "stream",
     "text": [
      "OpenGAN Epoch 49: 100%|██████████| 391/391 [00:57<00:00,  6.85it/s]\n"
     ]
    },
    {
     "name": "stdout",
     "output_type": "stream",
     "text": [
      "Epoch 49: D_loss=-8.0567, G_loss=16.1148, Val AUROC=0.5000\n"
     ]
    },
    {
     "name": "stderr",
     "output_type": "stream",
     "text": [
      "OpenGAN Epoch 50: 100%|██████████| 391/391 [00:56<00:00,  6.95it/s]\n"
     ]
    },
    {
     "name": "stdout",
     "output_type": "stream",
     "text": [
      "Epoch 50: D_loss=-8.0590, G_loss=16.1181, Val AUROC=0.5000\n",
      "\n",
      "最终测试集AUROC(CIFAR10): 0.7040\n",
      "\n",
      "最终测试集AUROC(SVHN): 0.8710\n",
      "\n",
      "最终测试集AUROC(MNIST): 0.9736\n"
     ]
    }
   ],
   "source": [
    "if __name__ == '__main__':\n",
    "    # 加载TinyImageNet数据集\n",
    "    data_dict = load_data(config)\n",
    "    closed_train_loader = DataLoader(\n",
    "        data_dict[\"closed\"][\"train\"],\n",
    "        batch_size=config[\"batch_size\"],\n",
    "        shuffle=True\n",
    "    )\n",
    "    closed_val_loader = DataLoader(\n",
    "        data_dict[\"closed\"][\"val\"],\n",
    "        batch_size=config[\"batch_size\"],\n",
    "        shuffle=False\n",
    "    )\n",
    "    # 训练闭集分类器\n",
    "    classifier = train_classifierII(closed_train_loader, closed_val_loader,config)\n",
    "    # 加载开集数据集\n",
    "    open_train_data = data_dict[\"open\"][\"CIFAR10\"][\"train\"]\n",
    "    open_train_loader = DataLoader(\n",
    "        open_train_data,\n",
    "        batch_size=config[\"batch_size\"],\n",
    "        shuffle=True\n",
    "    )\n",
    "    val_data = {\n",
    "    \"closed\": closed_val_loader,\n",
    "    \"open\": DataLoader(\n",
    "        data_dict[\"open\"][\"CIFAR10\"][\"test\"], \n",
    "        batch_size=config[\"batch_size\"],\n",
    "        shuffle=False\n",
    "    )\n",
    "}\n",
    "    # 训练OpenGAN\n",
    "    discriminator = train_openganII(\n",
    "        classifier, open_train_loader, val_data, config\n",
    "    )\n",
    "    # classifier = TinyImageClassifier(num_classes=config[\"num_closed_classes\"]).to(config[\"device\"])\n",
    "    # classifier.load_state_dict(torch.load(os.path.join(config[\"save_dir\"], \"best_classifierII.pth\")))\n",
    "    best_discriminator = Discriminator(input_dim=2048).to(config[\"device\"])\n",
    "    best_discriminator.load_state_dict(\n",
    "        torch.load(os.path.join(config[\"output_dir\"], \"best_discriminator.pth\"))\n",
    "    )\n",
    "    # 最终测试评估\n",
    "    test_auroc1 = evaluate_opengan(\n",
    "        best_discriminator, classifier, data_dict[\"closed\"][\"test\"], data_dict[\"open\"][\"CIFAR10\"][\"test\"], config\n",
    "    )\n",
    "    test_auroc2 = evaluate_opengan(\n",
    "        best_discriminator, classifier, data_dict[\"closed\"][\"test\"], data_dict[\"open\"][\"SVHN\"][\"test\"], config\n",
    "    )\n",
    "    test_auroc3 = evaluate_opengan(\n",
    "        best_discriminator, classifier, data_dict[\"closed\"][\"test\"], data_dict[\"open\"][\"MNIST\"][\"test\"], config\n",
    "    )\n",
    "    print(f\"\\n最终测试集AUROC(CIFAR10): {test_auroc1:.4f}\")\n",
    "    print(f\"\\n最终测试集AUROC(SVHN): {test_auroc2:.4f}\")\n",
    "    print(f\"\\n最终测试集AUROC(MNIST): {test_auroc3:.4f}\")"
   ]
  },
  {
   "cell_type": "code",
   "execution_count": null,
   "id": "308974ff3221ddfc",
   "metadata": {
    "ExecuteTime": {
     "end_time": "2025-08-02T10:19:29.831479Z",
     "start_time": "2025-08-02T10:19:29.823374Z"
    }
   },
   "outputs": [],
   "source": []
  }
 ],
 "metadata": {
  "kernelspec": {
   "display_name": "Python 3 (ipykernel)",
   "language": "python",
   "name": "python3"
  },
  "language_info": {
   "codemirror_mode": {
    "name": "ipython",
    "version": 3
   },
   "file_extension": ".py",
   "mimetype": "text/x-python",
   "name": "python",
   "nbconvert_exporter": "python",
   "pygments_lexer": "ipython3",
   "version": "3.11.11"
  }
 },
 "nbformat": 4,
 "nbformat_minor": 5
}
